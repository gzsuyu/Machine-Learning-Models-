{
 "cells": [
  {
   "cell_type": "markdown",
   "metadata": {
    "collapsed": true
   },
   "source": [
    "<h2>Matrix factorization - the MAP inference algorithm</h2>\n",
    "<p> Implement with a movie rating dataset. 100,000 ratings (1-5) from 943 users on 1682 movies.</p>\n",
    "<p> assumption: u,v ~ normal</p>"
   ]
  },
  {
   "cell_type": "code",
   "execution_count": 379,
   "metadata": {
    "collapsed": true,
    "scrolled": false
   },
   "outputs": [],
   "source": [
    "import pandas as pd\n",
    "import numpy as np\n",
    "PATH=\n",
    "train = pd.read_csv(PATH+\"/ratings.csv\",header=None)\n",
    "test = pd.read_csv(PATH+\"/ratings_test.csv\",header=None)\n",
    "train.columns=['user_id','movie_id','ratings']\n",
    "test.columns=['user_id','movie_id','ratings']\n",
    "#train.describe()\n",
    "n_movie = 1682\n",
    "n_user = 943\n",
    "n_test=len(test)"
   ]
  },
  {
   "cell_type": "code",
   "execution_count": 397,
   "metadata": {
    "collapsed": true
   },
   "outputs": [],
   "source": [
    "train_mij = pd.DataFrame(columns=list(range(1,n_movie+1)),index=list(range(1,n_user+1)))\n",
    "test_mij = pd.DataFrame(columns=list(range(1,n_movie+1)),index=list(range(1,n_user+1)))\n",
    "\n",
    "for i in range(0,len(train)):\n",
    "    train_mij.loc[int(train.loc[i,:][0]),int(train.loc[i,:][1])] = train.loc[i,:][2]\n",
    "\n",
    "for i in range(0,len(test)):\n",
    "    test_mij.loc[int(test.loc[i,:][0]),int(test.loc[i,:][1])] = test.loc[i,:][2]\n",
    "    \n",
    "train_mij = train_mij.fillna(np.nan)    \n",
    "test_mij = test_mij.fillna(np.nan)\n",
    "train_mij = np.matrix(train_mij)\n",
    "test_mij = np.matrix(test_mij)"
   ]
  },
  {
   "cell_type": "code",
   "execution_count": 380,
   "metadata": {
    "collapsed": true
   },
   "outputs": [],
   "source": [
    "def error_cal(u,v,truth=train_mij):\n",
    "    return (np.square(np.multiply(u*v,(~np.isnan(truth))) - np.nan_to_num(truth))).sum()\n"
   ]
  },
  {
   "cell_type": "code",
   "execution_count": 402,
   "metadata": {
    "collapsed": true
   },
   "outputs": [],
   "source": [
    "objective_10 = dict()\n",
    "sigma_sq = 0.25\n",
    "lam = 1\n",
    "d = 10\n",
    "inden_matrix=lam*sigma_sq*np.identity(d)\n",
    "objective_RMSE={'RMSE':[],'Objective_value':[]}\n",
    "save_result = {}\n",
    "\n",
    "#update ui\n",
    "for t in range(1,11):\n",
    "    V = np.matrix(np.random.multivariate_normal(np.repeat(0,d),np.identity(d)/lam,(n_movie)).T )#ASSUME\n",
    "    U = np.matrix(np.repeat(np.nan,n_user*d).reshape(n_user, d))\n",
    "    objective = []\n",
    "    for loop in range(100):\n",
    "        for i in range(0,n_user):\n",
    "            had = np.array(~np.isnan(train_mij[i,:]))[0]\n",
    "            vj = V[:,had]\n",
    "            mij = train_mij[i,had]\n",
    "            U[i,:] = (((inden_matrix + vj*vj.T).I)*(vj*mij.T)).T\n",
    "\n",
    "\n",
    "        for j in range(0,n_movie):\n",
    "            had = np.array(~np.isnan(train_mij[:,j].T))[0]\n",
    "            uj = U[had,:]\n",
    "            mij = train_mij[had,j]\n",
    "            V[:,j] = (((inden_matrix + uj.T*uj).I)*(uj.T*mij))\n",
    "            \n",
    "        if loop >=2:\n",
    "            L = -1*error_cal(U,V)/(2*sigma_sq) - np.square(V).sum()*lam/2 - np.square(U).sum()*lam/2\n",
    "            objective.append(L)\n",
    "            \n",
    "    RMSE = np.sqrt(error_cal(U,V,test_mij)/n_test)\n",
    "    objective_RMSE['RMSE'].append(RMSE)\n",
    "    objective_RMSE['Objective_value'].append(L)\n",
    "    objective_10[str(t)]=objective\n",
    "    save_result[str(t)] = [U,V]"
   ]
  },
  {
   "cell_type": "code",
   "execution_count": 432,
   "metadata": {},
   "outputs": [
    {
     "data": {
      "text/plain": [
       "<matplotlib.axes._subplots.AxesSubplot at 0x24592667e10>"
      ]
     },
     "execution_count": 432,
     "metadata": {},
     "output_type": "execute_result"
    },
    {
     "data": {
      "image/png": "[encoded data removed]",
      "text/plain": [
       "<matplotlib.figure.Figure at 0x2455f883908>"
      ]
     },
     "metadata": {},
     "output_type": "display_data"
    }
   ],
   "source": [
    "from matplotlib import pyplot as plt\n",
    "%matplotlib inline\n",
    "pd.DataFrame(objective_10).plot() #Objective value change per iteration with 10 runs."
   ]
  },
  {
   "cell_type": "code",
   "execution_count": 487,
   "metadata": {},
   "outputs": [
    {
     "data": {
      "text/html": [
       "<div>\n",
       "<style>\n",
       "    .dataframe thead tr:only-child th {\n",
       "        text-align: right;\n",
       "    }\n",
       "\n",
       "    .dataframe thead th {\n",
       "        text-align: left;\n",
       "    }\n",
       "\n",
       "    .dataframe tbody tr th {\n",
       "        vertical-align: top;\n",
       "    }\n",
       "</style>\n",
       "<table border=\"1\" class=\"dataframe\">\n",
       "  <thead>\n",
       "    <tr style=\"text-align: right;\">\n",
       "      <th></th>\n",
       "      <th>Objective_value</th>\n",
       "      <th>RMSE</th>\n",
       "    </tr>\n",
       "  </thead>\n",
       "  <tbody>\n",
       "    <tr>\n",
       "      <th>7</th>\n",
       "      <td>-90884.510866</td>\n",
       "      <td>1.071046</td>\n",
       "    </tr>\n",
       "    <tr>\n",
       "      <th>1</th>\n",
       "      <td>-90916.448659</td>\n",
       "      <td>1.107513</td>\n",
       "    </tr>\n",
       "    <tr>\n",
       "      <th>10</th>\n",
       "      <td>-90967.103133</td>\n",
       "      <td>1.116390</td>\n",
       "    </tr>\n",
       "    <tr>\n",
       "      <th>3</th>\n",
       "      <td>-90998.605180</td>\n",
       "      <td>1.163461</td>\n",
       "    </tr>\n",
       "    <tr>\n",
       "      <th>8</th>\n",
       "      <td>-91002.610699</td>\n",
       "      <td>1.089633</td>\n",
       "    </tr>\n",
       "    <tr>\n",
       "      <th>5</th>\n",
       "      <td>-91090.997120</td>\n",
       "      <td>1.109342</td>\n",
       "    </tr>\n",
       "    <tr>\n",
       "      <th>2</th>\n",
       "      <td>-91162.131517</td>\n",
       "      <td>1.174233</td>\n",
       "    </tr>\n",
       "    <tr>\n",
       "      <th>6</th>\n",
       "      <td>-91169.882827</td>\n",
       "      <td>1.136901</td>\n",
       "    </tr>\n",
       "    <tr>\n",
       "      <th>9</th>\n",
       "      <td>-91199.892054</td>\n",
       "      <td>1.107410</td>\n",
       "    </tr>\n",
       "    <tr>\n",
       "      <th>4</th>\n",
       "      <td>-91214.845716</td>\n",
       "      <td>1.103432</td>\n",
       "    </tr>\n",
       "  </tbody>\n",
       "</table>\n",
       "</div>"
      ],
      "text/plain": [
       "    Objective_value      RMSE\n",
       "7     -90884.510866  1.071046\n",
       "1     -90916.448659  1.107513\n",
       "10    -90967.103133  1.116390\n",
       "3     -90998.605180  1.163461\n",
       "8     -91002.610699  1.089633\n",
       "5     -91090.997120  1.109342\n",
       "2     -91162.131517  1.174233\n",
       "6     -91169.882827  1.136901\n",
       "9     -91199.892054  1.107410\n",
       "4     -91214.845716  1.103432"
      ]
     },
     "execution_count": 487,
     "metadata": {},
     "output_type": "execute_result"
    }
   ],
   "source": [
    "object_RMSE_df = pd.DataFrame(objective_RMSE)\n",
    "object_RMSE_df.index=list(range(1,11))\n",
    "object_RMSE_df = object_RMSE_df.sort_values(by='Objective_value',axis=0,ascending=False)\n",
    "object_RMSE_df #final objective value and RMSE for each run sorted by objective values."
   ]
  },
  {
   "cell_type": "code",
   "execution_count": 488,
   "metadata": {
    "collapsed": true
   },
   "outputs": [],
   "source": [
    "#movie list\n",
    "f = open(PATH+\"/movies.txt\",\"r\",encoding=\"utf-8\")\n",
    "movie_list = []\n",
    "for movie in f:movie_list.append(movie)\n",
    "\n",
    "for i in range(len(movie_list)):\n",
    "    movie_list[i] = movie_list[i].replace('\\n','')\n",
    "    \n",
    "\n",
    "def match_name(name,movie_list=movie_list):\n",
    "    index = 0\n",
    "    for i in movie_list:\n",
    "        if name in i:return index+1\n",
    "        else: index += 1\n",
    "            \n",
    "def match_id(index,movie_list=movie_list):\n",
    "    return movie_list[index-1]\n",
    " "
   ]
  },
  {
   "cell_type": "code",
   "execution_count": 489,
   "metadata": {
    "collapsed": true
   },
   "outputs": [],
   "source": [
    "def cal_dist(target_num,v):\n",
    "    target = v[:,target_num]\n",
    "    dist = {}\n",
    "    return_dict=[]\n",
    "    for i in range(len(v.T)):\n",
    "        dist[i] = np.square(target-v[:,i]).sum()\n",
    "        \n",
    "    sort_dist = sorted(dist,key=lambda x:dist[x])[1:11]\n",
    "    \n",
    "    for i in sort_dist:\n",
    "        return_dict.append([i,dist[i]])\n",
    "        \n",
    "    return return_dict"
   ]
  },
  {
   "cell_type": "code",
   "execution_count": 491,
   "metadata": {
    "collapsed": true
   },
   "outputs": [],
   "source": [
    "highest_result = object_RMSE_df.index[0]\n",
    "nearest_movies = {match_id(match_name(\"Star Wars\")):[],match_id(match_name(\"My Fair Lady\")):[],match_id(match_name(\"GoodFellas\")):[]}\n",
    "for i in [match_name(\"Star Wars\") ,match_name(\"My Fair Lady\"),match_name(\"GoodFellas\")]:\n",
    "    closest_list = cal_dist(i,save_result[str(highest_result)][1])\n",
    "    for each in closest_list:\n",
    "        each.append(match_id(each[0]))\n",
    "    index_list =[]\n",
    "    movie_dict={'movie_name':[],'distance':[]}\n",
    "    for a,b,c in closest_list:\n",
    "        index_list.append(a)\n",
    "        movie_dict['movie_name'].append(c)\n",
    "        movie_dict['distance'].append(b)\n",
    "    \n",
    "    movie_df = pd.DataFrame(movie_dict)\n",
    "    movie_df.index = index_list\n",
    "    movie_df.to_csv(str(match_id(i))+'.csv')"
   ]
  },
  {
   "cell_type": "code",
   "execution_count": 492,
   "metadata": {},
   "outputs": [
    {
     "data": {
      "text/html": [
       "<div>\n",
       "<style>\n",
       "    .dataframe thead tr:only-child th {\n",
       "        text-align: right;\n",
       "    }\n",
       "\n",
       "    .dataframe thead th {\n",
       "        text-align: left;\n",
       "    }\n",
       "\n",
       "    .dataframe tbody tr th {\n",
       "        vertical-align: top;\n",
       "    }\n",
       "</style>\n",
       "<table border=\"1\" class=\"dataframe\">\n",
       "  <thead>\n",
       "    <tr style=\"text-align: right;\">\n",
       "      <th></th>\n",
       "      <th>distance</th>\n",
       "      <th>movie_name</th>\n",
       "    </tr>\n",
       "  </thead>\n",
       "  <tbody>\n",
       "    <tr>\n",
       "      <th>522</th>\n",
       "      <td>0.251305</td>\n",
       "      <td>Down by Law (1986)</td>\n",
       "    </tr>\n",
       "    <tr>\n",
       "      <th>176</th>\n",
       "      <td>0.292127</td>\n",
       "      <td>Aliens (1986)</td>\n",
       "    </tr>\n",
       "    <tr>\n",
       "      <th>493</th>\n",
       "      <td>0.378493</td>\n",
       "      <td>Thin Man, The (1934)</td>\n",
       "    </tr>\n",
       "    <tr>\n",
       "      <th>175</th>\n",
       "      <td>0.403023</td>\n",
       "      <td>Brazil (1985)</td>\n",
       "    </tr>\n",
       "    <tr>\n",
       "      <th>519</th>\n",
       "      <td>0.472812</td>\n",
       "      <td>Treasure of the Sierra Madre, The (1948)</td>\n",
       "    </tr>\n",
       "    <tr>\n",
       "      <th>187</th>\n",
       "      <td>0.488497</td>\n",
       "      <td>Godfather: Part II, The (1974)</td>\n",
       "    </tr>\n",
       "    <tr>\n",
       "      <th>194</th>\n",
       "      <td>0.514554</td>\n",
       "      <td>Sting, The (1973)</td>\n",
       "    </tr>\n",
       "    <tr>\n",
       "      <th>490</th>\n",
       "      <td>0.586187</td>\n",
       "      <td>To Catch a Thief (1955)</td>\n",
       "    </tr>\n",
       "    <tr>\n",
       "      <th>198</th>\n",
       "      <td>0.612037</td>\n",
       "      <td>Nikita (La Femme Nikita) (1990)</td>\n",
       "    </tr>\n",
       "    <tr>\n",
       "      <th>529</th>\n",
       "      <td>0.613534</td>\n",
       "      <td>My Life as a Dog (Mitt liv som hund) (1985)</td>\n",
       "    </tr>\n",
       "  </tbody>\n",
       "</table>\n",
       "</div>"
      ],
      "text/plain": [
       "     distance                                   movie_name\n",
       "522  0.251305                           Down by Law (1986)\n",
       "176  0.292127                                Aliens (1986)\n",
       "493  0.378493                         Thin Man, The (1934)\n",
       "175  0.403023                                Brazil (1985)\n",
       "519  0.472812     Treasure of the Sierra Madre, The (1948)\n",
       "187  0.488497               Godfather: Part II, The (1974)\n",
       "194  0.514554                            Sting, The (1973)\n",
       "490  0.586187                      To Catch a Thief (1955)\n",
       "198  0.612037              Nikita (La Femme Nikita) (1990)\n",
       "529  0.613534  My Life as a Dog (Mitt liv som hund) (1985)"
      ]
     },
     "execution_count": 492,
     "metadata": {},
     "output_type": "execute_result"
    }
   ],
   "source": [
    "movie_df #10 movies closest to GoodFellas (1990) sorted by distance index"
   ]
  },
  {
   "cell_type": "code",
   "execution_count": null,
   "metadata": {
    "collapsed": true
   },
   "outputs": [],
   "source": []
  }
 ],
 "metadata": {
  "kernelspec": {
   "display_name": "Python 3",
   "language": "python",
   "name": "python3"
  },
  "language_info": {
   "codemirror_mode": {
    "name": "ipython",
    "version": 3
   },
   "file_extension": ".py",
   "mimetype": "text/x-python",
   "name": "python",
   "nbconvert_exporter": "python",
   "pygments_lexer": "ipython3",
   "version": "3.6.2"
  }
 },
 "nbformat": 4,
 "nbformat_minor": 2
}

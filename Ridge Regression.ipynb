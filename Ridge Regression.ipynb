{
 "cells": [
  {
   "cell_type": "markdown",
   "metadata": {},
   "source": [
    "<h2>Ridge Regression</h2>\n",
    "<p>Code for implementing Ridge Regression with a dataset with standarized 6 features(+1 for offset parameter) describing a single car(such as used year, weight), and with one corresponding y, which is miles per gallon for that car.</p>\n"
   ]
  },
  {
   "cell_type": "code",
   "execution_count": 1,
   "metadata": {
    "collapsed": true
   },
   "outputs": [],
   "source": [
    "import pandas as pd\n",
    "import numpy as np"
   ]
  },
  {
   "cell_type": "code",
   "execution_count": 2,
   "metadata": {},
   "outputs": [
    {
     "data": {
      "text/html": [
       "<div>\n",
       "<style>\n",
       "    .dataframe thead tr:only-child th {\n",
       "        text-align: right;\n",
       "    }\n",
       "\n",
       "    .dataframe thead th {\n",
       "        text-align: left;\n",
       "    }\n",
       "\n",
       "    .dataframe tbody tr th {\n",
       "        vertical-align: top;\n",
       "    }\n",
       "</style>\n",
       "<table border=\"1\" class=\"dataframe\">\n",
       "  <thead>\n",
       "    <tr style=\"text-align: right;\">\n",
       "      <th></th>\n",
       "      <th>0</th>\n",
       "      <th>1</th>\n",
       "      <th>2</th>\n",
       "      <th>3</th>\n",
       "      <th>4</th>\n",
       "      <th>5</th>\n",
       "      <th>6</th>\n",
       "    </tr>\n",
       "  </thead>\n",
       "  <tbody>\n",
       "    <tr>\n",
       "      <th>0</th>\n",
       "      <td>0.30957</td>\n",
       "      <td>-0.36707</td>\n",
       "      <td>0.45545</td>\n",
       "      <td>-0.200830</td>\n",
       "      <td>-0.73992</td>\n",
       "      <td>-0.80885</td>\n",
       "      <td>1</td>\n",
       "    </tr>\n",
       "    <tr>\n",
       "      <th>1</th>\n",
       "      <td>0.30957</td>\n",
       "      <td>0.35920</td>\n",
       "      <td>-0.11611</td>\n",
       "      <td>-0.038361</td>\n",
       "      <td>0.16625</td>\n",
       "      <td>-0.80885</td>\n",
       "      <td>1</td>\n",
       "    </tr>\n",
       "    <tr>\n",
       "      <th>2</th>\n",
       "      <td>-0.86291</td>\n",
       "      <td>-0.99778</td>\n",
       "      <td>-0.89551</td>\n",
       "      <td>-1.225100</td>\n",
       "      <td>-0.55868</td>\n",
       "      <td>-0.26592</td>\n",
       "      <td>1</td>\n",
       "    </tr>\n",
       "    <tr>\n",
       "      <th>3</th>\n",
       "      <td>-0.86291</td>\n",
       "      <td>-0.69198</td>\n",
       "      <td>-0.42787</td>\n",
       "      <td>-0.562260</td>\n",
       "      <td>-0.15997</td>\n",
       "      <td>1.09140</td>\n",
       "      <td>1</td>\n",
       "    </tr>\n",
       "    <tr>\n",
       "      <th>4</th>\n",
       "      <td>-0.86291</td>\n",
       "      <td>-0.92133</td>\n",
       "      <td>-0.63571</td>\n",
       "      <td>-1.251000</td>\n",
       "      <td>-0.41369</td>\n",
       "      <td>0.81993</td>\n",
       "      <td>1</td>\n",
       "    </tr>\n",
       "  </tbody>\n",
       "</table>\n",
       "</div>"
      ],
      "text/plain": [
       "         0        1        2         3        4        5  6\n",
       "0  0.30957 -0.36707  0.45545 -0.200830 -0.73992 -0.80885  1\n",
       "1  0.30957  0.35920 -0.11611 -0.038361  0.16625 -0.80885  1\n",
       "2 -0.86291 -0.99778 -0.89551 -1.225100 -0.55868 -0.26592  1\n",
       "3 -0.86291 -0.69198 -0.42787 -0.562260 -0.15997  1.09140  1\n",
       "4 -0.86291 -0.92133 -0.63571 -1.251000 -0.41369  0.81993  1"
      ]
     },
     "execution_count": 2,
     "metadata": {},
     "output_type": "execute_result"
    }
   ],
   "source": [
    "PATH = \n",
    "x_train = pd.read_csv(PATH+\"/X_train.csv\",header=None)\n",
    "y_train = pd.read_csv(PATH+\"/Y_train.csv\",header=None)\n",
    "x_test = pd.read_csv(PATH+\"/X_test.csv\",header=None)\n",
    "y_test = pd.read_csv(PATH+\"/Y_test.csv\",header=None)\n",
    "x_train.head()"
   ]
  },
  {
   "cell_type": "code",
   "execution_count": 36,
   "metadata": {
    "collapsed": true
   },
   "outputs": [],
   "source": [
    "x = np.mat(x_train)\n",
    "y = np.mat(y_train)\n",
    "I = np.identity(len(x.T))\n",
    "wrr =pd.DataFrame(np.nan,columns=[1,2,3,4,5,6,7],index=list(range(0,1001))) #wRR = (λI + XTX)-1XTy solved by hand\n",
    "degree_of_freedom = list()"
   ]
  },
  {
   "cell_type": "code",
   "execution_count": 37,
   "metadata": {
    "collapsed": true
   },
   "outputs": [],
   "source": [
    "lam = list(range(0,5001))\n",
    "for i in lam:\n",
    "    wrr.loc[i,:]= ((i*I+x.T*x).I*x.T*y).T\n",
    "    U,S,VT=np.linalg.svd(x*(i*I+x.T*x).I*x.T)\n",
    "    degree_of_freedom.append(sum(S))\n",
    "    \n",
    "wrr.index = degree_of_freedom\n"
   ]
  },
  {
   "cell_type": "code",
   "execution_count": 29,
   "metadata": {},
   "outputs": [
    {
     "data": {
      "text/plain": [
       "<matplotlib.collections.LineCollection at 0x1d2e542ea20>"
      ]
     },
     "execution_count": 29,
     "metadata": {},
     "output_type": "execute_result"
    },
    {
     "data": {
      "image/png": "[encoded data removed]",
      "text/plain": [
       "<matplotlib.figure.Figure at 0x1d2e2100128>"
      ]
     },
     "metadata": {},
     "output_type": "display_data"
    }
   ],
   "source": [
    "import matplotlib.pyplot as plt\n",
    "%matplotlib inline\n",
    "wrr.plot(xlim=(1,7),linewidth=1.5)\n",
    "plt.hlines(0, 6, 0, linewidth=1,colors = \"black\", linestyles = \"dashed\")"
   ]
  },
  {
   "cell_type": "markdown",
   "metadata": {},
   "source": [
    "Comparing with other features, the 4th and 6th dimension can influence a car's MPG more because of the larger weight. When the value of 4th dimension goes up, which have negative effect of the MPG, the MPG will go down. On the contrary, when the 6th dimension goes up, the MPG goes up too."
   ]
  },
  {
   "cell_type": "code",
   "execution_count": 49,
   "metadata": {
    "collapsed": true
   },
   "outputs": [],
   "source": [
    "RMSE = list()\n",
    "lam = range(0,51)\n",
    "for i in lam:\n",
    "    wrr = (i*I+x.T*x).I*x.T*y\n",
    "    y_pred = np.mat(x_test)*wrr\n",
    "    RMSE.append((float(sum(np.square(np.mat(y_test)-y_pred))))/42)"
   ]
  },
  {
   "cell_type": "code",
   "execution_count": 50,
   "metadata": {},
   "outputs": [
    {
     "data": {
      "text/plain": [
       "[<matplotlib.lines.Line2D at 0x1d2e89609b0>]"
      ]
     },
     "execution_count": 50,
     "metadata": {},
     "output_type": "execute_result"
    },
    {
     "data": {
      "image/png": "[encoded data removed]",
      "text/plain": [
       "<matplotlib.figure.Figure at 0x1d2e299c780>"
      ]
     },
     "metadata": {},
     "output_type": "display_data"
    }
   ],
   "source": [
    "plt.plot(lam,RMSE) \n",
    "#when lambda goes up, the RMSE will go up too. Since we want to choose a wrr with least RMSE, \n",
    "#here we choose lambda = 0, which makes WRR = WLS."
   ]
  },
  {
   "cell_type": "code",
   "execution_count": 104,
   "metadata": {
    "collapsed": true
   },
   "outputs": [],
   "source": [
    "#Polynomial Regression\n",
    "x_train2 = pd.DataFrame(np.nan,columns=['1','d1','d2','d3','d4','d5','d6','d1^2','d2^2','d3^2','d4^2','d5^2','d6^2'],index=range(0,len(x_train)))\n",
    "x_test2 = pd.DataFrame(np.nan,columns=['1','d1','d2','d3','d4','d5','d6','d1^2','d2^2','d3^2','d4^2','d5^2','d6^2'],index=range(0,len(x_test)))\n",
    "x_train3 = pd.DataFrame(np.nan,columns=['1','d1','d2','d3','d4','d5','d6','d1^2','d2^2','d3^2','d4^2','d5^2','d6^2','d1^3','d2^3','d3^3','d4^3','d5^3','d6^3'],index=range(0,len(x_train)))\n",
    "x_test3 = pd.DataFrame(np.nan,columns=['1','d1','d2','d3','d4','d5','d6','d1^2','d2^2','d3^2','d4^2','d5^2','d6^2','d1^3','d2^3','d3^3','d4^3','d5^3','d6^3'],index=range(0,len(x_test)))"
   ]
  },
  {
   "cell_type": "code",
   "execution_count": 117,
   "metadata": {
    "collapsed": true
   },
   "outputs": [],
   "source": [
    "x_train2.loc[:,'1'] = 1\n",
    "x_train3.loc[:,'1'] = 1\n",
    "x_test2.loc[:,'1'] = 1\n",
    "x_test3.loc[:,'1'] = 1\n",
    "\n",
    "for i in range(0,6):\n",
    "    x_train2.iloc[:,i+1] = x_train.iloc[:,i]\n",
    "    x_train2.iloc[:,i+7] = np.square(x_train.iloc[:,i])\n",
    "    \n",
    "    x_test2.iloc[:,i+1] = x_test.iloc[:,i]\n",
    "    x_test2.iloc[:,i+7] = np.square(x_test.iloc[:,i])\n",
    "    \n",
    "    x_train3.iloc[:,i+1] = x_train.iloc[:,i]\n",
    "    x_train3.iloc[:,i+7] = pow(x_train.iloc[:,i],2)\n",
    "    x_train3.iloc[:,i+13] = pow(x_train.iloc[:,i],3)\n",
    "    \n",
    "    x_test3.iloc[:,i+1] = x_test.iloc[:,i]\n",
    "    x_test3.iloc[:,i+7] = pow(x_test.iloc[:,i],2)\n",
    "    x_test3.iloc[:,i+13] = pow(x_test.iloc[:,i],3)"
   ]
  },
  {
   "cell_type": "code",
   "execution_count": 120,
   "metadata": {
    "collapsed": true
   },
   "outputs": [],
   "source": [
    "#p=1\n",
    "x = np.mat(x_train)\n",
    "y = np.mat(y_train)\n",
    "I = np.identity(len(x.T))\n",
    "\n",
    "RMSE1 = list()\n",
    "lam = range(0,501)\n",
    "for i in lam:\n",
    "    wrr = (i*I+x.T*x).I*x.T*y\n",
    "    y_pred = np.mat(x_test)*wrr\n",
    "    RMSE1.append((float(sum(np.square(np.mat(y_test)-y_pred))))/42)\n",
    "\n",
    "#p=2\n",
    "x = np.mat(x_train2)\n",
    "y = np.mat(y_train)\n",
    "I = np.identity(len(x.T))\n",
    "\n",
    "RMSE2 = list()\n",
    "lam = range(0,501)\n",
    "for i in lam:\n",
    "    wrr = (i*I+x.T*x).I*x.T*y\n",
    "    y_pred = np.mat(x_test2)*wrr\n",
    "    RMSE2.append((float(sum(np.square(np.mat(y_test)-y_pred))))/42)\n",
    "\n",
    "    \n",
    "#p=3\n",
    "x = np.mat(x_train3)\n",
    "y = np.mat(y_train)\n",
    "I = np.identity(len(x.T))\n",
    "\n",
    "RMSE3 = list()\n",
    "lam = range(0,501)\n",
    "for i in lam:\n",
    "    wrr = (i*I+x.T*x).I*x.T*y\n",
    "    y_pred = np.mat(x_test3)*wrr\n",
    "    RMSE3.append((float(sum(np.square(np.mat(y_test)-y_pred))))/42)\n"
   ]
  },
  {
   "cell_type": "code",
   "execution_count": 125,
   "metadata": {
    "collapsed": true
   },
   "outputs": [],
   "source": [
    "RMSE_total = pd.DataFrame({'RMSE1':RMSE1,'RMSE2':RMSE2,'RMSE3':RMSE3})"
   ]
  },
  {
   "cell_type": "code",
   "execution_count": 132,
   "metadata": {},
   "outputs": [
    {
     "data": {
      "text/plain": [
       "<matplotlib.axes._subplots.AxesSubplot at 0x1d2e9f97b38>"
      ]
     },
     "execution_count": 132,
     "metadata": {},
     "output_type": "execute_result"
    },
    {
     "data": {
      "image/png": "[encoded data removed]",
      "text/plain": [
       "<matplotlib.figure.Figure at 0x1d2ea003240>"
      ]
     },
     "metadata": {},
     "output_type": "display_data"
    }
   ],
   "source": [
    "RMSE_total.plot()"
   ]
  },
  {
   "cell_type": "code",
   "execution_count": 138,
   "metadata": {},
   "outputs": [
    {
     "data": {
      "text/plain": [
       "23    4.807381\n",
       "Name: RMSE2, dtype: float64"
      ]
     },
     "execution_count": 138,
     "metadata": {},
     "output_type": "execute_result"
    }
   ],
   "source": [
    "RMSE_total['RMSE2'][RMSE_total['RMSE2'] == min(RMSE2)]"
   ]
  },
  {
   "cell_type": "code",
   "execution_count": null,
   "metadata": {
    "collapsed": true
   },
   "outputs": [],
   "source": [
    "#choose the w when RMSE is minimized."
   ]
  },
  {
   "cell_type": "code",
   "execution_count": null,
   "metadata": {
    "collapsed": true
   },
   "outputs": [],
   "source": []
  }
 ],
 "metadata": {
  "kernelspec": {
   "display_name": "Python 3",
   "language": "python",
   "name": "python3"
  },
  "language_info": {
   "codemirror_mode": {
    "name": "ipython",
    "version": 3
   },
   "file_extension": ".py",
   "mimetype": "text/x-python",
   "name": "python",
   "nbconvert_exporter": "python",
   "pygments_lexer": "ipython3",
   "version": "3.6.2"
  }
 },
 "nbformat": 4,
 "nbformat_minor": 2
}

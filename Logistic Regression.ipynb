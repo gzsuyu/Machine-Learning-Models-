{
 "cells": [
  {
   "cell_type": "markdown",
   "metadata": {},
   "source": [
    "<h2>Logistic Regression Classifier</h2>\n",
    "<p>This dataset is a suedo dataset of spam/non-spam email with 57 dimensions with one binary target y.</p>\n",
    "<p>The data consists of examples of spam and non-spam emails, of which there are 4508 training examples and 93 testing examples. The feature vector x is a 57-dimensional vector extracted from the email and y = 1 indicates a spam email. The data has been preprocessed such that the first 54-dimensions of each observation is binary and the last three dimensions are positive numbers.</p>"
   ]
  },
  {
   "cell_type": "code",
   "execution_count": 1,
   "metadata": {
    "collapsed": true
   },
   "outputs": [],
   "source": [
    "import pandas as pd\n",
    "import numpy as np\n",
    "PATH = \n",
    "train_x =pd.read_csv(PATH+'/X_train.csv',header=None)\n",
    "train_y =pd.read_csv(PATH+'/y_train.csv',header=None)\n",
    "test_x =pd.read_csv(PATH+'/X_test.csv',header=None)\n",
    "test_y =pd.read_csv(PATH+'/y_test.csv',header=None)"
   ]
  },
  {
   "cell_type": "code",
   "execution_count": 2,
   "metadata": {
    "collapsed": true
   },
   "outputs": [],
   "source": [
    "#add one dimension for offset. \n",
    "train_x[57] = 1.0\n",
    "#y: 0,1 to -1,+1\n",
    "train_y[train_y.iloc[:,0]==0] = -1.0\n",
    "train_x_1 = train_x\n",
    "train_x_1['y'] = train_y\n",
    "train_x_1= train_x_1.drop('y',axis=1)\n",
    "train_x = train_x.drop('y',axis=1)\n",
    "wt = np.mat([0.0]*58).T\n",
    "train_x = np.mat(train_x).T\n",
    "train_y = np.mat(train_y)\n",
    "train_x_1 = np.mat(train_x_1).T"
   ]
  },
  {
   "cell_type": "code",
   "execution_count": 3,
   "metadata": {
    "collapsed": true
   },
   "outputs": [],
   "source": [
    "#steepest ascent algorithm\n",
    "def eta(t): \n",
    "    return 1/(pow(10,5)*np.sqrt(t+1))\n",
    "\n",
    "def sigmoid(w,x,y): #x,w are n-dimension y =+1/-1\n",
    "    if y*x.T*w<=-100:\n",
    "        return 0.0\n",
    "    elif y*x.T*w<= 100:\n",
    "        return np.exp(float(y*x.T*w))/(1+np.exp(float(y*x.T*w)))\n",
    "    else:\n",
    "        return 1.0\n",
    "\n",
    "def sum_in_iter(w,x,y):\n",
    "    s = 0\n",
    "    L = 0\n",
    "    for i in range(0,len(y)):\n",
    "        sigmoid_value = sigmoid(w,x[:,i],y[i,0])\n",
    "        s += (1-sigmoid_value)*y[i,0]*x[:,i]\n",
    "        if sigmoid_value == 0:\n",
    "            L += float(y[i,0]*x[:,i].T*w)\n",
    "        else:\n",
    "            L += np.log(sigmoid_value)\n",
    "    return s,L"
   ]
  },
  {
   "cell_type": "code",
   "execution_count": null,
   "metadata": {
    "collapsed": true
   },
   "outputs": [],
   "source": [
    "L=[np.nan]*10000\n",
    "for t in range(1,10001):\n",
    "    sum_iter, L[t-1] = sum_in_iter(wt,train_x,train_y)\n",
    "    wt += eta(t)*sum_iter"
   ]
  },
  {
   "cell_type": "code",
   "execution_count": null,
   "metadata": {
    "collapsed": true
   },
   "outputs": [],
   "source": [
    "plt.plot(L)"
   ]
  },
  {
   "cell_type": "code",
   "execution_count": null,
   "metadata": {
    "collapsed": true
   },
   "outputs": [],
   "source": []
  },
  {
   "cell_type": "code",
   "execution_count": 23,
   "metadata": {
    "collapsed": true
   },
   "outputs": [],
   "source": [
    "#Newton’s method\n",
    "wt = np.mat([0.0]*58).T\n",
    "\n",
    "def eta(t): \n",
    "    return 1/np.sqrt(t+1)\n",
    "\n",
    "#sigmoid(w,x,y)\n",
    "def L_2(x,w):\n",
    "    s = 0\n",
    "    for i in range(0,len(x.T)):\n",
    "        s -= sigmoid(w,x[:,i],1)*(1-sigmoid(w,x[:,i],1))*x[:,i]*x[:,i].T\n",
    "    return s\n",
    "\n",
    "L=list()\n",
    "for t in range(1,101):\n",
    "    sum_iter, L_val = sum_in_iter(wt,train_x,train_y)\n",
    "    wt -= eta(t)*pow(L_2(train_x_1,wt),-1)*sum_iter\n",
    "    L.append(L_val)"
   ]
  },
  {
   "cell_type": "code",
   "execution_count": 25,
   "metadata": {},
   "outputs": [
    {
     "data": {
      "text/plain": [
       "[<matplotlib.lines.Line2D at 0x224dddc3278>]"
      ]
     },
     "execution_count": 25,
     "metadata": {},
     "output_type": "execute_result"
    },
    {
     "data": {
      "image/png": "[encoded data removed]",
      "text/plain": [
       "<matplotlib.figure.Figure at 0x224ddd75be0>"
      ]
     },
     "metadata": {},
     "output_type": "display_data"
    }
   ],
   "source": [
    "plt.plot(L)"
   ]
  },
  {
   "cell_type": "code",
   "execution_count": 50,
   "metadata": {
    "collapsed": true
   },
   "outputs": [],
   "source": [
    "#classifier\n",
    "pred_y = list()\n",
    "test_x = pd.read_csv(PATH+'/X_test.csv',header=None)\n",
    "test_x[57] = 1.0\n",
    "test_x = np.mat(test_x).T\n",
    "test_y[test_y.iloc[:,0]==0] = -1.0"
   ]
  },
  {
   "cell_type": "code",
   "execution_count": 52,
   "metadata": {
    "collapsed": true
   },
   "outputs": [],
   "source": [
    "for i in range(0,len(test_x.T)):\n",
    "    pre = test_x[:,i].T*wt\n",
    "    if pre > 0: pred_y.append(1)\n",
    "    else: pred_y.append(-1)"
   ]
  },
  {
   "cell_type": "code",
   "execution_count": 53,
   "metadata": {},
   "outputs": [
    {
     "data": {
      "text/plain": [
       "0.91397849462365588"
      ]
     },
     "execution_count": 53,
     "metadata": {},
     "output_type": "execute_result"
    }
   ],
   "source": [
    "accuracy(test_y,pred_y)"
   ]
  },
  {
   "cell_type": "code",
   "execution_count": null,
   "metadata": {
    "collapsed": true
   },
   "outputs": [],
   "source": []
  }
 ],
 "metadata": {
  "kernelspec": {
   "display_name": "Python 3",
   "language": "python",
   "name": "python3"
  },
  "language_info": {
   "codemirror_mode": {
    "name": "ipython",
    "version": 3
   },
   "file_extension": ".py",
   "mimetype": "text/x-python",
   "name": "python",
   "nbconvert_exporter": "python",
   "pygments_lexer": "ipython3",
   "version": "3.6.2"
  }
 },
 "nbformat": 4,
 "nbformat_minor": 2
}

{
 "cells": [
  {
   "cell_type": "markdown",
   "metadata": {},
   "source": [
    "<h2> Gaussian Process</h2>\n",
    "<p>Code for implementing Gaussian Process with a dataset with standarized 6 features(+1 for offset parameter) describing a single car(such as used year, weight), and with one corresponding y, which is miles per gallon for that car.</p>\n",
    "<p>Here we use the kernel: Kij = K(xi; xj) = exp{1/b*||xi-xj||2}</p>"
   ]
  },
  {
   "cell_type": "code",
   "execution_count": 2,
   "metadata": {
    "collapsed": true
   },
   "outputs": [],
   "source": [
    "import pandas as pd \n",
    "import numpy as np\n",
    "from matplotlib import pyplot as plt\n",
    "%matplotlib inline"
   ]
  },
  {
   "cell_type": "code",
   "execution_count": 4,
   "metadata": {},
   "outputs": [],
   "source": [
    "PATH = \n",
    "X_TRAIN = pd.read_csv(PATH+\"/X_train.csv\",header = None)\n",
    "X_TEST = pd.read_csv(PATH+\"/X_test.csv\",header = None)\n",
    "Y_TRAIN = pd.read_csv(PATH+\"/y_train.csv\",header = None)\n",
    "Y_TEST = pd.read_csv(PATH+\"/y_test.csv\",header = None)"
   ]
  },
  {
   "cell_type": "code",
   "execution_count": 5,
   "metadata": {
    "collapsed": true
   },
   "outputs": [],
   "source": [
    "x_train = np.matrix(X_TRAIN)\n",
    "y_train = np.matrix(Y_TRAIN)\n",
    "x_test = np.matrix(X_TEST)\n",
    "y_test = np.matrix(Y_TEST)\n",
    "\n",
    "def I(x):\n",
    "    return np.identity(x) #n rows: to be define\n",
    "SIGMA = 0 #to be define"
   ]
  },
  {
   "cell_type": "code",
   "execution_count": 6,
   "metadata": {
    "collapsed": true
   },
   "outputs": [],
   "source": [
    "#def normal(x,u,sigma_sq): #1D\n",
    "#    return (1/np.sqrt(2*np.pi*sigma_sq))*np.exp(-pow(x-u,2)/(2*sigma_sq))\n",
    "\n",
    "def kij(xi,xj,b): #x is the nth dimension\n",
    "    return np.exp(-np.sum(np.power(xi-xj,2))/b)\n",
    "\n",
    "def k_matrix(x1,x2):\n",
    "    n = len(x1)\n",
    "    m = len(x2)\n",
    "    k = np.matrix(np.zeros(shape=(n,m)))\n",
    "    for i in range(0,n):\n",
    "        for j in range(0,m):\n",
    "            k[i,j] = kij(x1[i],x2[j],b)\n",
    "    return k\n",
    "\n",
    "\n",
    "def pred(x_test,SIGMA,x_train,y_train):\n",
    "    return k_matrix(x_test,x_train)*(SIGMA*I(len(x_train))+k_matrix(x_train,x_train)).I*y_train\n",
    "\n",
    "def RMSE(y_test,y_pred):\n",
    "    return np.sqrt(np.sum(np.power(y_test-y_pred,2))/len(y_test))"
   ]
  },
  {
   "cell_type": "code",
   "execution_count": 7,
   "metadata": {
    "collapsed": true
   },
   "outputs": [],
   "source": [
    "RMSE_result = np.zeros(shape=(6,10))\n",
    "\n",
    "p = 0\n",
    "for b in [5,7,9,11,13,15]:\n",
    "    q = 0\n",
    "    for SIGMA in range(1,11):\n",
    "        y_pred = pred(x_test,SIGMA*0.1,x_train,y_train)\n",
    "        RMSE_result[p,q] = RMSE(y_test,y_pred)\n",
    "        q += 1\n",
    "    p+=1\n",
    "        "
   ]
  },
  {
   "cell_type": "code",
   "execution_count": 8,
   "metadata": {},
   "outputs": [
    {
     "data": {
      "text/html": [
       "<div>\n",
       "<style>\n",
       "    .dataframe thead tr:only-child th {\n",
       "        text-align: right;\n",
       "    }\n",
       "\n",
       "    .dataframe thead th {\n",
       "        text-align: left;\n",
       "    }\n",
       "\n",
       "    .dataframe tbody tr th {\n",
       "        vertical-align: top;\n",
       "    }\n",
       "</style>\n",
       "<table border=\"1\" class=\"dataframe\">\n",
       "  <thead>\n",
       "    <tr style=\"text-align: right;\">\n",
       "      <th></th>\n",
       "      <th>0.1</th>\n",
       "      <th>0.2</th>\n",
       "      <th>0.3</th>\n",
       "      <th>0.4</th>\n",
       "      <th>0.5</th>\n",
       "      <th>0.6</th>\n",
       "      <th>0.7</th>\n",
       "      <th>0.8</th>\n",
       "      <th>0.9</th>\n",
       "      <th>1.0</th>\n",
       "    </tr>\n",
       "  </thead>\n",
       "  <tbody>\n",
       "    <tr>\n",
       "      <th>5</th>\n",
       "      <td>1.966276</td>\n",
       "      <td>1.933135</td>\n",
       "      <td>1.923420</td>\n",
       "      <td>1.922198</td>\n",
       "      <td>1.924769</td>\n",
       "      <td>1.929213</td>\n",
       "      <td>1.934634</td>\n",
       "      <td>1.940583</td>\n",
       "      <td>1.946820</td>\n",
       "      <td>1.953213</td>\n",
       "    </tr>\n",
       "    <tr>\n",
       "      <th>7</th>\n",
       "      <td>1.920163</td>\n",
       "      <td>1.904877</td>\n",
       "      <td>1.908080</td>\n",
       "      <td>1.915902</td>\n",
       "      <td>1.924804</td>\n",
       "      <td>1.933701</td>\n",
       "      <td>1.942254</td>\n",
       "      <td>1.950380</td>\n",
       "      <td>1.958093</td>\n",
       "      <td>1.965438</td>\n",
       "    </tr>\n",
       "    <tr>\n",
       "      <th>9</th>\n",
       "      <td>1.897649</td>\n",
       "      <td>1.902519</td>\n",
       "      <td>1.917648</td>\n",
       "      <td>1.932514</td>\n",
       "      <td>1.945699</td>\n",
       "      <td>1.957235</td>\n",
       "      <td>1.967403</td>\n",
       "      <td>1.976492</td>\n",
       "      <td>1.984741</td>\n",
       "      <td>1.992341</td>\n",
       "    </tr>\n",
       "    <tr>\n",
       "      <th>11</th>\n",
       "      <td>1.890507</td>\n",
       "      <td>1.914981</td>\n",
       "      <td>1.938849</td>\n",
       "      <td>1.957936</td>\n",
       "      <td>1.973216</td>\n",
       "      <td>1.985764</td>\n",
       "      <td>1.996375</td>\n",
       "      <td>2.005603</td>\n",
       "      <td>2.013835</td>\n",
       "      <td>2.021345</td>\n",
       "    </tr>\n",
       "    <tr>\n",
       "      <th>13</th>\n",
       "      <td>1.895849</td>\n",
       "      <td>1.935586</td>\n",
       "      <td>1.964597</td>\n",
       "      <td>1.985502</td>\n",
       "      <td>2.001314</td>\n",
       "      <td>2.013878</td>\n",
       "      <td>2.024310</td>\n",
       "      <td>2.033307</td>\n",
       "      <td>2.041317</td>\n",
       "      <td>2.048642</td>\n",
       "    </tr>\n",
       "    <tr>\n",
       "      <th>15</th>\n",
       "      <td>1.909603</td>\n",
       "      <td>1.959549</td>\n",
       "      <td>1.990804</td>\n",
       "      <td>2.011915</td>\n",
       "      <td>2.027370</td>\n",
       "      <td>2.039465</td>\n",
       "      <td>2.049463</td>\n",
       "      <td>2.058105</td>\n",
       "      <td>2.065845</td>\n",
       "      <td>2.072976</td>\n",
       "    </tr>\n",
       "  </tbody>\n",
       "</table>\n",
       "</div>"
      ],
      "text/plain": [
       "         0.1       0.2       0.3       0.4       0.5       0.6       0.7  \\\n",
       "5   1.966276  1.933135  1.923420  1.922198  1.924769  1.929213  1.934634   \n",
       "7   1.920163  1.904877  1.908080  1.915902  1.924804  1.933701  1.942254   \n",
       "9   1.897649  1.902519  1.917648  1.932514  1.945699  1.957235  1.967403   \n",
       "11  1.890507  1.914981  1.938849  1.957936  1.973216  1.985764  1.996375   \n",
       "13  1.895849  1.935586  1.964597  1.985502  2.001314  2.013878  2.024310   \n",
       "15  1.909603  1.959549  1.990804  2.011915  2.027370  2.039465  2.049463   \n",
       "\n",
       "         0.8       0.9       1.0  \n",
       "5   1.940583  1.946820  1.953213  \n",
       "7   1.950380  1.958093  1.965438  \n",
       "9   1.976492  1.984741  1.992341  \n",
       "11  2.005603  2.013835  2.021345  \n",
       "13  2.033307  2.041317  2.048642  \n",
       "15  2.058105  2.065845  2.072976  "
      ]
     },
     "execution_count": 8,
     "metadata": {},
     "output_type": "execute_result"
    }
   ],
   "source": [
    "pd.DataFrame(RMSE_result,index=[5,7,9,11,13,15],columns=[0.1,0.2,0.3,0.4,0.5,0.6,0.7,0.8,0.9,1.0]) #Lowest rmse: b=11,sigma=0.1"
   ]
  },
  {
   "cell_type": "code",
   "execution_count": 9,
   "metadata": {
    "collapsed": true
   },
   "outputs": [],
   "source": [
    "x_train = np.matrix(X_TRAIN)[:,3]\n",
    "x_test = np.matrix(X_TEST)[:,3]"
   ]
  },
  {
   "cell_type": "code",
   "execution_count": 13,
   "metadata": {},
   "outputs": [
    {
     "data": {
      "text/plain": [
       "[<matplotlib.lines.Line2D at 0x26cf494d748>,\n",
       " <matplotlib.lines.Line2D at 0x26cf494d908>]"
      ]
     },
     "execution_count": 13,
     "metadata": {},
     "output_type": "execute_result"
    },
    {
     "data": {
      "image/png": "[encoded data removed]",
      "text/plain": [
       "<matplotlib.figure.Figure at 0x26cf1357a58>"
      ]
     },
     "metadata": {},
     "output_type": "display_data"
    }
   ],
   "source": [
    "#see the 4th dimension\n",
    "b = 11\n",
    "SIGMA = 0.1\n",
    "y_pred = pred(x_test,SIGMA,x_train,y_train)\n",
    "order = np.argsort(x_test.T.tolist()[0])\n",
    "plt.plot(np.array(x_test.T.tolist()[0])[order],np.array(y_pred.T.tolist()[0])[order],'k-', x_test.T.tolist()[0], y_test.T.tolist()[0], 'ro')"
   ]
  },
  {
   "cell_type": "code",
   "execution_count": null,
   "metadata": {
    "collapsed": true
   },
   "outputs": [],
   "source": []
  }
 ],
 "metadata": {
  "kernelspec": {
   "display_name": "Python 3",
   "language": "python",
   "name": "python3"
  },
  "language_info": {
   "codemirror_mode": {
    "name": "ipython",
    "version": 3
   },
   "file_extension": ".py",
   "mimetype": "text/x-python",
   "name": "python",
   "nbconvert_exporter": "python",
   "pygments_lexer": "ipython3",
   "version": "3.6.2"
  }
 },
 "nbformat": 4,
 "nbformat_minor": 2
}

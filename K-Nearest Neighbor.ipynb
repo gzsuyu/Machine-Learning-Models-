{
 "cells": [
  {
   "cell_type": "markdown",
   "metadata": {},
   "source": [
    "<h2>KNN Classifier</h2>\n",
    "<p>This dataset is a suedo dataset of spam/non-spam email with 57 dimensions with one binary target y.</p>\n",
    "<p>The data consists of examples of spam and non-spam emails, of which there are 4508 training examples and 93 testing examples. The feature vector x is a 57-dimensional vector extracted from the email and y = 1 indicates a spam email. The data has been preprocessed such that the first 54-dimensions of each observation is binary and the last three dimensions are positive numbers.</p>"
   ]
  },
  {
   "cell_type": "code",
   "execution_count": 1,
   "metadata": {
    "collapsed": true
   },
   "outputs": [],
   "source": [
    "import pandas as pd\n",
    "import numpy as np\n",
    "PATH = \n",
    "train_x =pd.read_csv(PATH+'/X_train.csv',header=None)\n",
    "train_y =pd.read_csv(PATH+'/y_train.csv',header=None)\n",
    "test_x =pd.read_csv(PATH+'/X_test.csv',header=None)\n",
    "test_y =pd.read_csv(PATH+'/y_test.csv',header=None)\n",
    "\n",
    "train_x['y']=train_y\n",
    "train_x_1 = train_x[train_x['y']==1]\n",
    "train_x_0 = train_x[train_x['y']==0]"
   ]
  },
  {
   "cell_type": "code",
   "execution_count": 2,
   "metadata": {
    "collapsed": true
   },
   "outputs": [],
   "source": [
    "import random\n",
    "\n",
    "train_x = np.array(train_x)\n",
    "train_x_knn = list(map(lambda x: (x[-1],x[:-1]),train_x))\n",
    "test_x = np.array(test_x)\n",
    "\n",
    "def sum_diff(x,y):\n",
    "    return sum(abs(x - y))\n",
    "\n",
    "def knn_pred(x,k):\n",
    "    #each row of train data has a value for the difference\n",
    "    knn = list()\n",
    "    for i in range(0,len(train_x)):\n",
    "        knn.append((sum_diff(x,train_x_knn[i][1]),train_x_knn[i][0]))\n",
    "\n",
    "    pred = np.sum(sorted(knn)[0:k],axis=0)[1]/k\n",
    "    \n",
    "    if pred > 0.5: return 1 \n",
    "    elif pred == 0.5: return random.randint(0,1)\n",
    "    else: return 0\n",
    "\n",
    "    \n",
    "def accuracy(actual,pred):\n",
    "    return np.sum(np.array(actual).T==pred)/len(actual)"
   ]
  },
  {
   "cell_type": "code",
   "execution_count": 5,
   "metadata": {
    "collapsed": true
   },
   "outputs": [],
   "source": [
    "k_accuracy = []\n",
    "for k in range(1,21):\n",
    "    pred = [np.nan]*len(test_x)\n",
    "    for i in range(0,len(test_x)):\n",
    "        pred[i] = knn_pred(test_x[i],k)\n",
    "    k_accuracy.append(accuracy(test_y,pred))"
   ]
  },
  {
   "cell_type": "code",
   "execution_count": 20,
   "metadata": {},
   "outputs": [
    {
     "data": {
      "text/plain": [
       "[<matplotlib.lines.Line2D at 0x224dda27d68>]"
      ]
     },
     "execution_count": 20,
     "metadata": {},
     "output_type": "execute_result"
    },
    {
     "data": {
      "image/png": "[encoded data removed]",
      "text/plain": [
       "<matplotlib.figure.Figure at 0x224da0a97f0>"
      ]
     },
     "metadata": {},
     "output_type": "display_data"
    }
   ],
   "source": [
    "from matplotlib import pyplot as plt\n",
    "%matplotlib inline\n",
    "plt.xticks(list(range(1,21,5)))\n",
    "plt.plot(list(range(1,21,1)),k_accuracy)"
   ]
  },
  {
   "cell_type": "code",
   "execution_count": null,
   "metadata": {
    "collapsed": true
   },
   "outputs": [],
   "source": [
    "#when k=1 or 5, we have the highest outsample accuracy. Usually choose 5?"
   ]
  }
 ],
 "metadata": {
  "kernelspec": {
   "display_name": "Python 3",
   "language": "python",
   "name": "python3"
  },
  "language_info": {
   "codemirror_mode": {
    "name": "ipython",
    "version": 3
   },
   "file_extension": ".py",
   "mimetype": "text/x-python",
   "name": "python",
   "nbconvert_exporter": "python",
   "pygments_lexer": "ipython3",
   "version": "3.6.2"
  }
 },
 "nbformat": 4,
 "nbformat_minor": 2
}

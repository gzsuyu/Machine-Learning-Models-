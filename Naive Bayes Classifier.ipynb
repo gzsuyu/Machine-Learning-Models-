{
 "cells": [
  {
   "cell_type": "markdown",
   "metadata": {},
   "source": [
    "<h2>Naive Bayes Classifier</h2>\n",
    "<p>This dataset is a suedo dataset of spam/non-spam email with 57 dimensions with one binary target y.</p>\n",
    "<p>The data consists of examples of spam and non-spam emails, of which there are 4508 training examples and 93 testing examples. The feature vector x is a 57-dimensional vector extracted from the email and y = 1 indicates a spam email. The data has been preprocessed such that the first 54-dimensions of each observation is binary and the last three dimensions are positive numbers.</p>"
   ]
  },
  {
   "cell_type": "code",
   "execution_count": 1,
   "metadata": {
    "collapsed": true
   },
   "outputs": [],
   "source": [
    "import pandas as pd\n",
    "import numpy as np\n",
    "PATH = \n",
    "train_x =pd.read_csv(PATH+'/X_train.csv',header=None)\n",
    "train_y =pd.read_csv(PATH+'/y_train.csv',header=None)\n",
    "test_x =pd.read_csv(PATH+'/X_test.csv',header=None)\n",
    "test_y =pd.read_csv(PATH+'/y_test.csv',header=None)\n",
    "\n",
    "train_x['y']=train_y\n",
    "train_x_1 = train_x[train_x['y']==1]\n",
    "train_x_0 = train_x[train_x['y']==0]"
   ]
  },
  {
   "cell_type": "code",
   "execution_count": 98,
   "metadata": {
    "collapsed": true
   },
   "outputs": [],
   "source": [
    "#Use 54 Bernoulli distributions for the 54 binary dimensions and 3 Pareto distributions for the last 3 positive dimensions.\n",
    "#pi solved by hand\n",
    "pi = np.sum(train_y)/len(train_y)\n",
    "\n",
    "#theta\n",
    "t = pd.DataFrame(columns=[0,1])\n",
    "#for D1-D54: Bernoulli range(0,54)\n",
    "\n",
    "for i in range(0,54):\n",
    "    t.loc[i,1] = np.sum(train_x_1.loc[:,i])/len(train_x_1)\n",
    "#for D55-57 range(54,57)\n",
    "for i in range(54,57):\n",
    "    s = 0\n",
    "    for j in range(0,len(train_x_1)):\n",
    "        s += np.log(train_x_1.iloc[j,i])\n",
    "    t.loc[i,1] = len(train_x_1)/s\n",
    "\n",
    "for i in range(0,54):\n",
    "    t.loc[i,0] = np.sum(train_x_0.loc[:,i])/len(train_x_0)\n",
    "#for D55-57 range(54,57)\n",
    "for i in range(54,57):\n",
    "    s = 0\n",
    "    for j in range(0,len(train_x_0)):\n",
    "        s += np.log(train_x_0.iloc[j,i])\n",
    "    t.loc[i,0] = len(train_x_0)/s"
   ]
  },
  {
   "cell_type": "code",
   "execution_count": 99,
   "metadata": {
    "collapsed": true
   },
   "outputs": [],
   "source": [
    "def Bernoulli(x,w):\n",
    "    return float(pow(w,x)*pow(1-w,1-x))\n",
    "\n",
    "def Pareto(x,w):\n",
    "    return float(w*pow(x,-(w+1)))\n",
    "\n",
    "def bayes_classifier(x):\n",
    "    y_0 = Bernoulli(0,pi)\n",
    "    for i in range(0,54):\n",
    "        y_0 = y_0*Bernoulli(x[i],t.loc[i,0])\n",
    "    for i in range(54,57):\n",
    "        y_0 = y_0*Pareto(x[i],t.loc[i,0])\n",
    "\n",
    "    y_1 = Bernoulli(1,pi)\n",
    "    for i in range(0,54):\n",
    "        y_1 = y_1*Bernoulli(x[i],t.loc[i,1])\n",
    "    for i in range(54,57):\n",
    "        y_1 = y_1*Pareto(x[i],t.loc[i,1])  \n",
    "        \n",
    "    if y_1 > y_0: return 1\n",
    "    else: return 0 \n",
    "    "
   ]
  },
  {
   "cell_type": "code",
   "execution_count": 100,
   "metadata": {
    "collapsed": true
   },
   "outputs": [],
   "source": [
    "pred_y = [np.nan]*len(test_y)\n",
    "\n",
    "for i in range(0,len(test_y)):\n",
    "    pred_y[i] = bayes_classifier(test_x.loc[i,:])\n",
    "\n",
    "#(y,y') a=(0,0),b=(0,1),c=(1,0),d=(1,1)\n",
    "a,b,c,d=0,0,0,0\n",
    "for i in range(0,len(test_y)):\n",
    "    if (int(test_y.loc[i,:]) == 0) and (pred_y[i] == 0):a+=1\n",
    "    if (int(test_y.loc[i,:]) == 0) and (pred_y[i] == 1):b+=1\n",
    "    if (int(test_y.loc[i,:]) == 1) and (pred_y[i] == 0):c+=1\n",
    "    if (int(test_y.loc[i,:]) == 1) and (pred_y[i] == 1):d+=1"
   ]
  },
  {
   "cell_type": "code",
   "execution_count": 101,
   "metadata": {},
   "outputs": [
    {
     "name": "stdout",
     "output_type": "stream",
     "text": [
      "54 2 \n",
      " 5 32\n"
     ]
    },
    {
     "data": {
      "text/plain": [
       "0.9247311827956989"
      ]
     },
     "execution_count": 101,
     "metadata": {},
     "output_type": "execute_result"
    }
   ],
   "source": [
    "print(a,b,'\\n',c,d)\n",
    "pred_accuracy = (a+d)/len(test_y)\n",
    "pred_accuracy #accuracy is nearly 92.5%"
   ]
  },
  {
   "cell_type": "code",
   "execution_count": 97,
   "metadata": {},
   "outputs": [
    {
     "data": {
      "image/png": "[encoded data removed]",
      "text/plain": [
       "<matplotlib.figure.Figure at 0x213113bf358>"
      ]
     },
     "metadata": {},
     "output_type": "display_data"
    }
   ],
   "source": [
    "#which dimension gives more information: when the difference between index for spam/non-spam is higher.\n",
    "from matplotlib import pyplot as plt\n",
    "%matplotlib inline\n",
    "\n",
    "stem_data = pd.DataFrame({0:list(-(train_x_0.iloc[:,0:54].sum())),1:list(train_x_1.iloc[:,0:54].sum())})\n",
    "plt.stem(stem_data.index+1,t.iloc[0:54,0]*(-1))\n",
    "plt.stem(stem_data.index+1,t.iloc[0:54,1])\n",
    "plt.vlines(x=[16,52],ymin=-0.6,ymax=1,color='r',linestyle='--')\n",
    "plt.show() #those highlighted dimension is the most informative ones."
   ]
  },
  {
   "cell_type": "code",
   "execution_count": null,
   "metadata": {
    "collapsed": true
   },
   "outputs": [],
   "source": []
  }
 ],
 "metadata": {
  "kernelspec": {
   "display_name": "Python 3",
   "language": "python",
   "name": "python3"
  },
  "language_info": {
   "codemirror_mode": {
    "name": "ipython",
    "version": 3
   },
   "file_extension": ".py",
   "mimetype": "text/x-python",
   "name": "python",
   "nbconvert_exporter": "python",
   "pygments_lexer": "ipython3",
   "version": "3.6.2"
  }
 },
 "nbformat": 4,
 "nbformat_minor": 2
}
